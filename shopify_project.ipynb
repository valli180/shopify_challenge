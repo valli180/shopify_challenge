{
 "cells": [
  {
   "cell_type": "code",
   "execution_count": 46,
   "id": "85d29786-a74b-416d-a3ac-c2b3e80d26e1",
   "metadata": {},
   "outputs": [],
   "source": [
    "import numpy as np\n",
    "import pandas as pd"
   ]
  },
  {
   "cell_type": "code",
   "execution_count": 47,
   "id": "ac700bed-1613-4e41-bf51-5d8f711b2d25",
   "metadata": {},
   "outputs": [],
   "source": [
    "sheet_url = \"https://docs.google.com/spreadsheets/d/16i38oonuX1y1g7C_UAmiK9GkY7cS-64DfiDMNiR41LM/edit#gid=0\"\n",
    "url_1 = sheet_url.replace(\"/edit#gid=\", \"/export?format=csv&gid=\")\n",
    "\n",
    "df = pd.read_csv(url_1, index_col=0, parse_dates=[\"created_at\"])\n",
    "df[\"date\"] = pd.to_datetime(df[\"created_at\"]).dt.date\n",
    "df[\"time\"] = pd.to_datetime(df[\"created_at\"]).dt.time\n"
   ]
  },
  {
   "cell_type": "code",
   "execution_count": 48,
   "id": "ba3820c0-8578-4e8d-9c20-e8ee3f92e830",
   "metadata": {},
   "outputs": [],
   "source": [
    "df = df.reset_index()"
   ]
  },
  {
   "cell_type": "code",
   "execution_count": 49,
   "id": "ea33bbda-795a-4981-a610-263d14867fcc",
   "metadata": {},
   "outputs": [
    {
     "data": {
      "text/plain": [
       "3145.128"
      ]
     },
     "execution_count": 49,
     "metadata": {},
     "output_type": "execute_result"
    }
   ],
   "source": [
    "df[\"order_amount\"].mean()"
   ]
  },
  {
   "cell_type": "markdown",
   "id": "9f3d18f3-06e3-40f8-9eb9-6500739c244b",
   "metadata": {},
   "source": [
    "The average order value(AOV) was calculated by taking the mean of the order_amount which is erroneous because each order has more than one item in it. Thereby while calculating the mean which is $ (total\\_sum) / (total\\_quantity) $, the result was unreasonably huge number. \n"
   ]
  },
  {
   "cell_type": "code",
   "execution_count": null,
   "id": "12b21ef3-e22e-42c0-afbd-90dce5e94250",
   "metadata": {},
   "outputs": [],
   "source": []
  },
  {
   "cell_type": "markdown",
   "id": "c4e457f3-c744-46f6-9451-9c7fa5b37758",
   "metadata": {},
   "source": [
    "## Calculating the mean value of the sneakers"
   ]
  },
  {
   "cell_type": "markdown",
   "id": "252761de-f29d-4ac1-ad33-b2811cc3b6c8",
   "metadata": {},
   "source": [
    "**Mean** is the ideal metric for this scenario, but the procedure adopted to arrive at the mean was wrong."
   ]
  },
  {
   "cell_type": "code",
   "execution_count": 52,
   "id": "16ef0c1b-04eb-495d-904a-b77427c7915f",
   "metadata": {},
   "outputs": [],
   "source": [
    "df[\"price_per_unit\"] = df[\"order_amount\"]/df[\"total_items\"]"
   ]
  },
  {
   "cell_type": "code",
   "execution_count": 53,
   "id": "810cd6ff-c65f-4440-92af-5887d610bd54",
   "metadata": {},
   "outputs": [
    {
     "data": {
      "text/html": [
       "<div>\n",
       "<style scoped>\n",
       "    .dataframe tbody tr th:only-of-type {\n",
       "        vertical-align: middle;\n",
       "    }\n",
       "\n",
       "    .dataframe tbody tr th {\n",
       "        vertical-align: top;\n",
       "    }\n",
       "\n",
       "    .dataframe thead th {\n",
       "        text-align: right;\n",
       "    }\n",
       "</style>\n",
       "<table border=\"1\" class=\"dataframe\">\n",
       "  <thead>\n",
       "    <tr style=\"text-align: right;\">\n",
       "      <th></th>\n",
       "      <th>order_id</th>\n",
       "      <th>shop_id</th>\n",
       "      <th>user_id</th>\n",
       "      <th>order_amount</th>\n",
       "      <th>total_items</th>\n",
       "      <th>payment_method</th>\n",
       "      <th>created_at</th>\n",
       "      <th>date</th>\n",
       "      <th>time</th>\n",
       "      <th>price_per_unit</th>\n",
       "    </tr>\n",
       "  </thead>\n",
       "  <tbody>\n",
       "    <tr>\n",
       "      <th>0</th>\n",
       "      <td>1</td>\n",
       "      <td>53</td>\n",
       "      <td>746</td>\n",
       "      <td>224</td>\n",
       "      <td>2</td>\n",
       "      <td>cash</td>\n",
       "      <td>2017-03-13 12:36:56</td>\n",
       "      <td>2017-03-13</td>\n",
       "      <td>12:36:56</td>\n",
       "      <td>112.0</td>\n",
       "    </tr>\n",
       "    <tr>\n",
       "      <th>1</th>\n",
       "      <td>2</td>\n",
       "      <td>92</td>\n",
       "      <td>925</td>\n",
       "      <td>90</td>\n",
       "      <td>1</td>\n",
       "      <td>cash</td>\n",
       "      <td>2017-03-03 17:38:52</td>\n",
       "      <td>2017-03-03</td>\n",
       "      <td>17:38:52</td>\n",
       "      <td>90.0</td>\n",
       "    </tr>\n",
       "    <tr>\n",
       "      <th>2</th>\n",
       "      <td>3</td>\n",
       "      <td>44</td>\n",
       "      <td>861</td>\n",
       "      <td>144</td>\n",
       "      <td>1</td>\n",
       "      <td>cash</td>\n",
       "      <td>2017-03-14 04:23:56</td>\n",
       "      <td>2017-03-14</td>\n",
       "      <td>04:23:56</td>\n",
       "      <td>144.0</td>\n",
       "    </tr>\n",
       "    <tr>\n",
       "      <th>3</th>\n",
       "      <td>4</td>\n",
       "      <td>18</td>\n",
       "      <td>935</td>\n",
       "      <td>156</td>\n",
       "      <td>1</td>\n",
       "      <td>credit_card</td>\n",
       "      <td>2017-03-26 12:43:37</td>\n",
       "      <td>2017-03-26</td>\n",
       "      <td>12:43:37</td>\n",
       "      <td>156.0</td>\n",
       "    </tr>\n",
       "    <tr>\n",
       "      <th>4</th>\n",
       "      <td>5</td>\n",
       "      <td>18</td>\n",
       "      <td>883</td>\n",
       "      <td>156</td>\n",
       "      <td>1</td>\n",
       "      <td>credit_card</td>\n",
       "      <td>2017-03-01 04:35:11</td>\n",
       "      <td>2017-03-01</td>\n",
       "      <td>04:35:11</td>\n",
       "      <td>156.0</td>\n",
       "    </tr>\n",
       "  </tbody>\n",
       "</table>\n",
       "</div>"
      ],
      "text/plain": [
       "   order_id  shop_id  user_id  order_amount  total_items payment_method  \\\n",
       "0         1       53      746           224            2           cash   \n",
       "1         2       92      925            90            1           cash   \n",
       "2         3       44      861           144            1           cash   \n",
       "3         4       18      935           156            1    credit_card   \n",
       "4         5       18      883           156            1    credit_card   \n",
       "\n",
       "           created_at        date      time  price_per_unit  \n",
       "0 2017-03-13 12:36:56  2017-03-13  12:36:56           112.0  \n",
       "1 2017-03-03 17:38:52  2017-03-03  17:38:52            90.0  \n",
       "2 2017-03-14 04:23:56  2017-03-14  04:23:56           144.0  \n",
       "3 2017-03-26 12:43:37  2017-03-26  12:43:37           156.0  \n",
       "4 2017-03-01 04:35:11  2017-03-01  04:35:11           156.0  "
      ]
     },
     "execution_count": 53,
     "metadata": {},
     "output_type": "execute_result"
    }
   ],
   "source": [
    "df.head()"
   ]
  },
  {
   "cell_type": "code",
   "execution_count": 60,
   "id": "d64697ce-47e2-4092-a0e4-1f2349621af9",
   "metadata": {},
   "outputs": [
    {
     "data": {
      "text/plain": [
       "387.7428"
      ]
     },
     "execution_count": 60,
     "metadata": {},
     "output_type": "execute_result"
    }
   ],
   "source": [
    "df[\"price_per_unit\"].mean()"
   ]
  },
  {
   "cell_type": "markdown",
   "id": "d6afc1ee-2fb6-4657-9d4b-1f126610c685",
   "metadata": {},
   "source": [
    "**Therefore the mean or the AOV of the sneakers is 387.742**"
   ]
  },
  {
   "cell_type": "code",
   "execution_count": null,
   "id": "5b82334f-7f41-4552-955f-ff3ceadf898a",
   "metadata": {},
   "outputs": [],
   "source": []
  }
 ],
 "metadata": {
  "kernelspec": {
   "display_name": "Python [conda env:dsci513env]",
   "language": "python",
   "name": "conda-env-dsci513env-py"
  },
  "language_info": {
   "codemirror_mode": {
    "name": "ipython",
    "version": 3
   },
   "file_extension": ".py",
   "mimetype": "text/x-python",
   "name": "python",
   "nbconvert_exporter": "python",
   "pygments_lexer": "ipython3",
   "version": "3.10.2"
  }
 },
 "nbformat": 4,
 "nbformat_minor": 5
}
