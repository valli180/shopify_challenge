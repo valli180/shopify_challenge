{
 "cells": [
  {
   "cell_type": "code",
   "execution_count": 66,
   "id": "85d29786-a74b-416d-a3ac-c2b3e80d26e1",
   "metadata": {},
   "outputs": [],
   "source": [
    "import numpy as np\n",
    "import pandas as pd\n",
    "import seaborn as sns\n",
    "import matplotlib as plt\n",
    "pd.set_option('display.max_rows', None)"
   ]
  },
  {
   "cell_type": "code",
   "execution_count": 2,
   "id": "ac700bed-1613-4e41-bf51-5d8f711b2d25",
   "metadata": {},
   "outputs": [],
   "source": [
    "df = pd.read_csv(\"data.csv\")\n",
    "#df[\"date\"] = pd.to_datetime(df[\"created_at\"]).dt.date\n",
    "#df[\"time\"] = pd.to_datetime(df[\"created_at\"]).dt.time\n",
    "#df.drop(columns=[\"created_at\"], inplace=True)"
   ]
  },
  {
   "cell_type": "code",
   "execution_count": 3,
   "id": "97d94519-b0e5-427c-a09b-2d1fd72d8cbe",
   "metadata": {},
   "outputs": [
    {
     "data": {
      "text/plain": [
       "(5000, 7)"
      ]
     },
     "execution_count": 3,
     "metadata": {},
     "output_type": "execute_result"
    }
   ],
   "source": [
    "df.shape"
   ]
  },
  {
   "cell_type": "code",
   "execution_count": 4,
   "id": "ea33bbda-795a-4981-a610-263d14867fcc",
   "metadata": {},
   "outputs": [
    {
     "data": {
      "text/plain": [
       "3145.128"
      ]
     },
     "execution_count": 4,
     "metadata": {},
     "output_type": "execute_result"
    }
   ],
   "source": [
    "df[\"order_amount\"].mean()"
   ]
  },
  {
   "cell_type": "markdown",
   "id": "9f3d18f3-06e3-40f8-9eb9-6500739c244b",
   "metadata": {},
   "source": [
    "* A very naive approach of taking the mean of the order_amount was adopted to calculate the average order value(AOV) which is erroneous because each order has more than one item in it. Thereby while calculating the mean which is $ (total\\_sum) / (total\\_quantity) $, the result was unreasonably huge number. \n"
   ]
  },
  {
   "cell_type": "code",
   "execution_count": 5,
   "id": "12b21ef3-e22e-42c0-afbd-90dce5e94250",
   "metadata": {},
   "outputs": [
    {
     "name": "stdout",
     "output_type": "stream",
     "text": [
      "<class 'pandas.core.frame.DataFrame'>\n",
      "RangeIndex: 5000 entries, 0 to 4999\n",
      "Data columns (total 7 columns):\n",
      " #   Column          Non-Null Count  Dtype \n",
      "---  ------          --------------  ----- \n",
      " 0   order_id        5000 non-null   int64 \n",
      " 1   shop_id         5000 non-null   int64 \n",
      " 2   user_id         5000 non-null   int64 \n",
      " 3   order_amount    5000 non-null   int64 \n",
      " 4   total_items     5000 non-null   int64 \n",
      " 5   payment_method  5000 non-null   object\n",
      " 6   created_at      5000 non-null   object\n",
      "dtypes: int64(5), object(2)\n",
      "memory usage: 273.6+ KB\n"
     ]
    }
   ],
   "source": [
    "df.info()"
   ]
  },
  {
   "cell_type": "markdown",
   "id": "c4e457f3-c744-46f6-9451-9c7fa5b37758",
   "metadata": {},
   "source": [
    "## Calculating the mean value of the sneakers"
   ]
  },
  {
   "cell_type": "code",
   "execution_count": 6,
   "id": "16ef0c1b-04eb-495d-904a-b77427c7915f",
   "metadata": {},
   "outputs": [],
   "source": [
    "df[\"price_per_unit\"] = df[\"order_amount\"]/df[\"total_items\"]"
   ]
  },
  {
   "cell_type": "code",
   "execution_count": 7,
   "id": "810cd6ff-c65f-4440-92af-5887d610bd54",
   "metadata": {},
   "outputs": [
    {
     "data": {
      "text/html": [
       "<div>\n",
       "<style scoped>\n",
       "    .dataframe tbody tr th:only-of-type {\n",
       "        vertical-align: middle;\n",
       "    }\n",
       "\n",
       "    .dataframe tbody tr th {\n",
       "        vertical-align: top;\n",
       "    }\n",
       "\n",
       "    .dataframe thead th {\n",
       "        text-align: right;\n",
       "    }\n",
       "</style>\n",
       "<table border=\"1\" class=\"dataframe\">\n",
       "  <thead>\n",
       "    <tr style=\"text-align: right;\">\n",
       "      <th></th>\n",
       "      <th>order_id</th>\n",
       "      <th>shop_id</th>\n",
       "      <th>user_id</th>\n",
       "      <th>order_amount</th>\n",
       "      <th>total_items</th>\n",
       "      <th>payment_method</th>\n",
       "      <th>created_at</th>\n",
       "      <th>price_per_unit</th>\n",
       "    </tr>\n",
       "  </thead>\n",
       "  <tbody>\n",
       "    <tr>\n",
       "      <th>0</th>\n",
       "      <td>1</td>\n",
       "      <td>53</td>\n",
       "      <td>746</td>\n",
       "      <td>224</td>\n",
       "      <td>2</td>\n",
       "      <td>cash</td>\n",
       "      <td>2017-03-13 12:36:56</td>\n",
       "      <td>112.0</td>\n",
       "    </tr>\n",
       "    <tr>\n",
       "      <th>1</th>\n",
       "      <td>2</td>\n",
       "      <td>92</td>\n",
       "      <td>925</td>\n",
       "      <td>90</td>\n",
       "      <td>1</td>\n",
       "      <td>cash</td>\n",
       "      <td>2017-03-03 17:38:52</td>\n",
       "      <td>90.0</td>\n",
       "    </tr>\n",
       "    <tr>\n",
       "      <th>2</th>\n",
       "      <td>3</td>\n",
       "      <td>44</td>\n",
       "      <td>861</td>\n",
       "      <td>144</td>\n",
       "      <td>1</td>\n",
       "      <td>cash</td>\n",
       "      <td>2017-03-14 4:23:56</td>\n",
       "      <td>144.0</td>\n",
       "    </tr>\n",
       "    <tr>\n",
       "      <th>3</th>\n",
       "      <td>4</td>\n",
       "      <td>18</td>\n",
       "      <td>935</td>\n",
       "      <td>156</td>\n",
       "      <td>1</td>\n",
       "      <td>credit_card</td>\n",
       "      <td>2017-03-26 12:43:37</td>\n",
       "      <td>156.0</td>\n",
       "    </tr>\n",
       "    <tr>\n",
       "      <th>4</th>\n",
       "      <td>5</td>\n",
       "      <td>18</td>\n",
       "      <td>883</td>\n",
       "      <td>156</td>\n",
       "      <td>1</td>\n",
       "      <td>credit_card</td>\n",
       "      <td>2017-03-01 4:35:11</td>\n",
       "      <td>156.0</td>\n",
       "    </tr>\n",
       "  </tbody>\n",
       "</table>\n",
       "</div>"
      ],
      "text/plain": [
       "   order_id  shop_id  user_id  order_amount  total_items payment_method  \\\n",
       "0         1       53      746           224            2           cash   \n",
       "1         2       92      925            90            1           cash   \n",
       "2         3       44      861           144            1           cash   \n",
       "3         4       18      935           156            1    credit_card   \n",
       "4         5       18      883           156            1    credit_card   \n",
       "\n",
       "            created_at  price_per_unit  \n",
       "0  2017-03-13 12:36:56           112.0  \n",
       "1  2017-03-03 17:38:52            90.0  \n",
       "2   2017-03-14 4:23:56           144.0  \n",
       "3  2017-03-26 12:43:37           156.0  \n",
       "4   2017-03-01 4:35:11           156.0  "
      ]
     },
     "execution_count": 7,
     "metadata": {},
     "output_type": "execute_result"
    }
   ],
   "source": [
    "df.head()"
   ]
  },
  {
   "cell_type": "code",
   "execution_count": 8,
   "id": "d64697ce-47e2-4092-a0e4-1f2349621af9",
   "metadata": {},
   "outputs": [
    {
     "data": {
      "text/plain": [
       "387.7428"
      ]
     },
     "execution_count": 8,
     "metadata": {},
     "output_type": "execute_result"
    }
   ],
   "source": [
    "df[\"price_per_unit\"].mean()"
   ]
  },
  {
   "cell_type": "markdown",
   "id": "d6afc1ee-2fb6-4657-9d4b-1f126610c685",
   "metadata": {},
   "source": [
    "**Therefore the mean or the AOV of the sneakers is 387.742**"
   ]
  },
  {
   "cell_type": "code",
   "execution_count": 9,
   "id": "5b82334f-7f41-4552-955f-ff3ceadf898a",
   "metadata": {},
   "outputs": [
    {
     "data": {
      "text/plain": [
       "count     5000.000000\n",
       "mean       387.742800\n",
       "std       2441.963725\n",
       "min         90.000000\n",
       "25%        133.000000\n",
       "50%        153.000000\n",
       "75%        169.000000\n",
       "max      25725.000000\n",
       "Name: price_per_unit, dtype: float64"
      ]
     },
     "execution_count": 9,
     "metadata": {},
     "output_type": "execute_result"
    }
   ],
   "source": [
    "df[\"price_per_unit\"].describe()"
   ]
  },
  {
   "cell_type": "code",
   "execution_count": 10,
   "id": "a334e1cd-9d55-44aa-a33f-3f1c7646108d",
   "metadata": {},
   "outputs": [
    {
     "data": {
      "text/plain": [
       "count      5000.000000\n",
       "mean       3145.128000\n",
       "std       41282.539349\n",
       "min          90.000000\n",
       "25%         163.000000\n",
       "50%         284.000000\n",
       "75%         390.000000\n",
       "max      704000.000000\n",
       "Name: order_amount, dtype: float64"
      ]
     },
     "execution_count": 10,
     "metadata": {},
     "output_type": "execute_result"
    }
   ],
   "source": [
    "df[\"order_amount\"].describe()"
   ]
  },
  {
   "cell_type": "code",
   "execution_count": 11,
   "id": "a38ba27c-2c42-48ee-970b-98456ca75311",
   "metadata": {},
   "outputs": [
    {
     "data": {
      "text/plain": [
       "count    5000.00000\n",
       "mean        8.78720\n",
       "std       116.32032\n",
       "min         1.00000\n",
       "25%         1.00000\n",
       "50%         2.00000\n",
       "75%         3.00000\n",
       "max      2000.00000\n",
       "Name: total_items, dtype: float64"
      ]
     },
     "execution_count": 11,
     "metadata": {},
     "output_type": "execute_result"
    }
   ],
   "source": [
    "df[\"total_items\"].describe()"
   ]
  },
  {
   "cell_type": "code",
   "execution_count": 12,
   "id": "39f3c44b-1ba4-4821-977a-84a18967ead4",
   "metadata": {},
   "outputs": [
    {
     "data": {
      "text/plain": [
       "25725.0    46\n",
       "Name: price_per_unit, dtype: int64"
      ]
     },
     "execution_count": 12,
     "metadata": {},
     "output_type": "execute_result"
    }
   ],
   "source": [
    "# finding number of values above mean and its value\n",
    "df[df[\"price_per_unit\"]>df[\"price_per_unit\"].mean()][\"price_per_unit\"].value_counts()"
   ]
  },
  {
   "cell_type": "code",
   "execution_count": 13,
   "id": "56bdf11f-fdd2-46bb-a04e-b76b466ef26e",
   "metadata": {},
   "outputs": [
    {
     "data": {
      "text/plain": [
       "2000    17\n",
       "Name: total_items, dtype: int64"
      ]
     },
     "execution_count": 13,
     "metadata": {},
     "output_type": "execute_result"
    }
   ],
   "source": [
    "# finding number of values above mean and its value\n",
    "df[df[\"total_items\"]>df[\"total_items\"].mean()][\"total_items\"].value_counts()"
   ]
  },
  {
   "cell_type": "code",
   "execution_count": 61,
   "id": "d6ef3de9-8ca3-4c11-bac7-c6202305046d",
   "metadata": {},
   "outputs": [
    {
     "data": {
      "text/html": [
       "<div>\n",
       "<style scoped>\n",
       "    .dataframe tbody tr th:only-of-type {\n",
       "        vertical-align: middle;\n",
       "    }\n",
       "\n",
       "    .dataframe tbody tr th {\n",
       "        vertical-align: top;\n",
       "    }\n",
       "\n",
       "    .dataframe thead th {\n",
       "        text-align: right;\n",
       "    }\n",
       "</style>\n",
       "<table border=\"1\" class=\"dataframe\">\n",
       "  <thead>\n",
       "    <tr style=\"text-align: right;\">\n",
       "      <th></th>\n",
       "      <th></th>\n",
       "      <th></th>\n",
       "      <th></th>\n",
       "      <th></th>\n",
       "      <th>0</th>\n",
       "    </tr>\n",
       "    <tr>\n",
       "      <th>order_amount</th>\n",
       "      <th>total_items</th>\n",
       "      <th>price_per_unit</th>\n",
       "      <th>shop_id</th>\n",
       "      <th>user_id</th>\n",
       "      <th></th>\n",
       "    </tr>\n",
       "  </thead>\n",
       "  <tbody>\n",
       "    <tr>\n",
       "      <th>704000</th>\n",
       "      <th>2000</th>\n",
       "      <th>352.0</th>\n",
       "      <th>42</th>\n",
       "      <th>607</th>\n",
       "      <td>17</td>\n",
       "    </tr>\n",
       "    <tr>\n",
       "      <th>77175</th>\n",
       "      <th>3</th>\n",
       "      <th>25725.0</th>\n",
       "      <th>78</th>\n",
       "      <th>766</th>\n",
       "      <td>1</td>\n",
       "    </tr>\n",
       "    <tr>\n",
       "      <th rowspan=\"9\" valign=\"top\">51450</th>\n",
       "      <th rowspan=\"9\" valign=\"top\">2</th>\n",
       "      <th rowspan=\"9\" valign=\"top\">25725.0</th>\n",
       "      <th rowspan=\"9\" valign=\"top\">78</th>\n",
       "      <th>855</th>\n",
       "      <td>1</td>\n",
       "    </tr>\n",
       "    <tr>\n",
       "      <th>869</th>\n",
       "      <td>1</td>\n",
       "    </tr>\n",
       "    <tr>\n",
       "      <th>927</th>\n",
       "      <td>1</td>\n",
       "    </tr>\n",
       "    <tr>\n",
       "      <th>935</th>\n",
       "      <td>1</td>\n",
       "    </tr>\n",
       "    <tr>\n",
       "      <th>936</th>\n",
       "      <td>1</td>\n",
       "    </tr>\n",
       "    <tr>\n",
       "      <th>946</th>\n",
       "      <td>1</td>\n",
       "    </tr>\n",
       "    <tr>\n",
       "      <th>960</th>\n",
       "      <td>1</td>\n",
       "    </tr>\n",
       "    <tr>\n",
       "      <th>967</th>\n",
       "      <td>1</td>\n",
       "    </tr>\n",
       "    <tr>\n",
       "      <th>983</th>\n",
       "      <td>1</td>\n",
       "    </tr>\n",
       "    <tr>\n",
       "      <th>77175</th>\n",
       "      <th>3</th>\n",
       "      <th>25725.0</th>\n",
       "      <th>78</th>\n",
       "      <th>775</th>\n",
       "      <td>1</td>\n",
       "    </tr>\n",
       "    <tr>\n",
       "      <th>51450</th>\n",
       "      <th>2</th>\n",
       "      <th>25725.0</th>\n",
       "      <th>78</th>\n",
       "      <th>814</th>\n",
       "      <td>1</td>\n",
       "    </tr>\n",
       "    <tr>\n",
       "      <th rowspan=\"7\" valign=\"top\">77175</th>\n",
       "      <th rowspan=\"7\" valign=\"top\">3</th>\n",
       "      <th rowspan=\"7\" valign=\"top\">25725.0</th>\n",
       "      <th rowspan=\"7\" valign=\"top\">78</th>\n",
       "      <th>787</th>\n",
       "      <td>1</td>\n",
       "    </tr>\n",
       "    <tr>\n",
       "      <th>817</th>\n",
       "      <td>1</td>\n",
       "    </tr>\n",
       "    <tr>\n",
       "      <th>818</th>\n",
       "      <td>1</td>\n",
       "    </tr>\n",
       "    <tr>\n",
       "      <th>915</th>\n",
       "      <td>1</td>\n",
       "    </tr>\n",
       "    <tr>\n",
       "      <th>928</th>\n",
       "      <td>1</td>\n",
       "    </tr>\n",
       "    <tr>\n",
       "      <th>962</th>\n",
       "      <td>1</td>\n",
       "    </tr>\n",
       "    <tr>\n",
       "      <th>969</th>\n",
       "      <td>1</td>\n",
       "    </tr>\n",
       "    <tr>\n",
       "      <th>102900</th>\n",
       "      <th>4</th>\n",
       "      <th>25725.0</th>\n",
       "      <th>78</th>\n",
       "      <th>834</th>\n",
       "      <td>1</td>\n",
       "    </tr>\n",
       "    <tr>\n",
       "      <th>154350</th>\n",
       "      <th>6</th>\n",
       "      <th>25725.0</th>\n",
       "      <th>78</th>\n",
       "      <th>878</th>\n",
       "      <td>1</td>\n",
       "    </tr>\n",
       "    <tr>\n",
       "      <th>51450</th>\n",
       "      <th>2</th>\n",
       "      <th>25725.0</th>\n",
       "      <th>78</th>\n",
       "      <th>828</th>\n",
       "      <td>1</td>\n",
       "    </tr>\n",
       "    <tr>\n",
       "      <th rowspan=\"13\" valign=\"top\">25725</th>\n",
       "      <th rowspan=\"13\" valign=\"top\">1</th>\n",
       "      <th rowspan=\"13\" valign=\"top\">25725.0</th>\n",
       "      <th rowspan=\"13\" valign=\"top\">78</th>\n",
       "      <th>740</th>\n",
       "      <td>1</td>\n",
       "    </tr>\n",
       "    <tr>\n",
       "      <th>745</th>\n",
       "      <td>1</td>\n",
       "    </tr>\n",
       "    <tr>\n",
       "      <th>890</th>\n",
       "      <td>1</td>\n",
       "    </tr>\n",
       "    <tr>\n",
       "      <th>800</th>\n",
       "      <td>1</td>\n",
       "    </tr>\n",
       "    <tr>\n",
       "      <th>812</th>\n",
       "      <td>1</td>\n",
       "    </tr>\n",
       "    <tr>\n",
       "      <th>823</th>\n",
       "      <td>1</td>\n",
       "    </tr>\n",
       "    <tr>\n",
       "      <th>852</th>\n",
       "      <td>1</td>\n",
       "    </tr>\n",
       "    <tr>\n",
       "      <th>855</th>\n",
       "      <td>1</td>\n",
       "    </tr>\n",
       "    <tr>\n",
       "      <th>861</th>\n",
       "      <td>1</td>\n",
       "    </tr>\n",
       "    <tr>\n",
       "      <th>866</th>\n",
       "      <td>1</td>\n",
       "    </tr>\n",
       "    <tr>\n",
       "      <th>867</th>\n",
       "      <td>1</td>\n",
       "    </tr>\n",
       "    <tr>\n",
       "      <th>889</th>\n",
       "      <td>1</td>\n",
       "    </tr>\n",
       "    <tr>\n",
       "      <th>910</th>\n",
       "      <td>1</td>\n",
       "    </tr>\n",
       "    <tr>\n",
       "      <th>51450</th>\n",
       "      <th>2</th>\n",
       "      <th>25725.0</th>\n",
       "      <th>78</th>\n",
       "      <th>760</th>\n",
       "      <td>1</td>\n",
       "    </tr>\n",
       "    <tr>\n",
       "      <th rowspan=\"6\" valign=\"top\">25725</th>\n",
       "      <th rowspan=\"6\" valign=\"top\">1</th>\n",
       "      <th rowspan=\"6\" valign=\"top\">25725.0</th>\n",
       "      <th rowspan=\"6\" valign=\"top\">78</th>\n",
       "      <th>912</th>\n",
       "      <td>1</td>\n",
       "    </tr>\n",
       "    <tr>\n",
       "      <th>944</th>\n",
       "      <td>1</td>\n",
       "    </tr>\n",
       "    <tr>\n",
       "      <th>970</th>\n",
       "      <td>1</td>\n",
       "    </tr>\n",
       "    <tr>\n",
       "      <th>982</th>\n",
       "      <td>1</td>\n",
       "    </tr>\n",
       "    <tr>\n",
       "      <th>990</th>\n",
       "      <td>1</td>\n",
       "    </tr>\n",
       "    <tr>\n",
       "      <th>997</th>\n",
       "      <td>1</td>\n",
       "    </tr>\n",
       "    <tr>\n",
       "      <th rowspan=\"4\" valign=\"top\">51450</th>\n",
       "      <th rowspan=\"4\" valign=\"top\">2</th>\n",
       "      <th rowspan=\"4\" valign=\"top\">25725.0</th>\n",
       "      <th rowspan=\"4\" valign=\"top\">78</th>\n",
       "      <th>707</th>\n",
       "      <td>1</td>\n",
       "    </tr>\n",
       "    <tr>\n",
       "      <th>709</th>\n",
       "      <td>1</td>\n",
       "    </tr>\n",
       "    <tr>\n",
       "      <th>756</th>\n",
       "      <td>1</td>\n",
       "    </tr>\n",
       "    <tr>\n",
       "      <th>810</th>\n",
       "      <td>1</td>\n",
       "    </tr>\n",
       "  </tbody>\n",
       "</table>\n",
       "</div>"
      ],
      "text/plain": [
       "                                                          0\n",
       "order_amount total_items price_per_unit shop_id user_id    \n",
       "704000       2000        352.0          42      607      17\n",
       "77175        3           25725.0        78      766       1\n",
       "51450        2           25725.0        78      855       1\n",
       "                                                869       1\n",
       "                                                927       1\n",
       "                                                935       1\n",
       "                                                936       1\n",
       "                                                946       1\n",
       "                                                960       1\n",
       "                                                967       1\n",
       "                                                983       1\n",
       "77175        3           25725.0        78      775       1\n",
       "51450        2           25725.0        78      814       1\n",
       "77175        3           25725.0        78      787       1\n",
       "                                                817       1\n",
       "                                                818       1\n",
       "                                                915       1\n",
       "                                                928       1\n",
       "                                                962       1\n",
       "                                                969       1\n",
       "102900       4           25725.0        78      834       1\n",
       "154350       6           25725.0        78      878       1\n",
       "51450        2           25725.0        78      828       1\n",
       "25725        1           25725.0        78      740       1\n",
       "                                                745       1\n",
       "                                                890       1\n",
       "                                                800       1\n",
       "                                                812       1\n",
       "                                                823       1\n",
       "                                                852       1\n",
       "                                                855       1\n",
       "                                                861       1\n",
       "                                                866       1\n",
       "                                                867       1\n",
       "                                                889       1\n",
       "                                                910       1\n",
       "51450        2           25725.0        78      760       1\n",
       "25725        1           25725.0        78      912       1\n",
       "                                                944       1\n",
       "                                                970       1\n",
       "                                                982       1\n",
       "                                                990       1\n",
       "                                                997       1\n",
       "51450        2           25725.0        78      707       1\n",
       "                                                709       1\n",
       "                                                756       1\n",
       "                                                810       1"
      ]
     },
     "execution_count": 61,
     "metadata": {},
     "output_type": "execute_result"
    }
   ],
   "source": [
    "# finding number of values above mean and its value\n",
    "df_counts_max = df[df[\"order_amount\"]>df[\"order_amount\"].mean()][\n",
    "    [\"order_amount\",\"total_items\", \"price_per_unit\", \"shop_id\", \"user_id\"]\n",
    "].value_counts()\n",
    "pd.DataFrame(df_counts_max)"
   ]
  },
  {
   "cell_type": "code",
   "execution_count": 68,
   "id": "0048bdb1-9785-4c29-8646-a21d24729a4d",
   "metadata": {},
   "outputs": [],
   "source": [
    "pd.DataFrame(df_counts_max).to_csv(\"grouped.csv\")"
   ]
  },
  {
   "cell_type": "code",
   "execution_count": 114,
   "id": "d3e03c4a-3648-4fdd-95e1-cf7bd1c5341f",
   "metadata": {},
   "outputs": [
    {
     "ename": "AttributeError",
     "evalue": "'AxesSubplot' object has no attribute 'save_fig'",
     "output_type": "error",
     "traceback": [
      "\u001b[0;31m---------------------------------------------------------------------------\u001b[0m",
      "\u001b[0;31mAttributeError\u001b[0m                            Traceback (most recent call last)",
      "Input \u001b[0;32mIn [114]\u001b[0m, in \u001b[0;36m<cell line: 4>\u001b[0;34m()\u001b[0m\n\u001b[1;32m      2\u001b[0m sns\u001b[38;5;241m.\u001b[39mboxplot(data\u001b[38;5;241m=\u001b[39mdf, y\u001b[38;5;241m=\u001b[39m\u001b[38;5;124m\"\u001b[39m\u001b[38;5;124mprice_per_unit\u001b[39m\u001b[38;5;124m\"\u001b[39m)\n\u001b[1;32m      3\u001b[0m plt\u001b[38;5;241m.\u001b[39mset_title(\u001b[38;5;124m\"\u001b[39m\u001b[38;5;124mDistribution of Price Per Unit\u001b[39m\u001b[38;5;124m\"\u001b[39m)\n\u001b[0;32m----> 4\u001b[0m \u001b[43mplt\u001b[49m\u001b[38;5;241;43m.\u001b[39;49m\u001b[43msave_fig\u001b[49m(\u001b[38;5;124m\"\u001b[39m\u001b[38;5;124mboxplot.png\u001b[39m\u001b[38;5;124m\"\u001b[39m)\n",
      "\u001b[0;31mAttributeError\u001b[0m: 'AxesSubplot' object has no attribute 'save_fig'"
     ]
    },
    {
     "data": {
      "image/png": "[encoded data removed]",
      "text/plain": [
       "<Figure size 432x288 with 1 Axes>"
      ]
     },
     "metadata": {},
     "output_type": "display_data"
    }
   ],
   "source": [
    "sns.set_theme(style=\"darkgrid\")\n",
    "sns.boxplot(data=df, y=\"price_per_unit\")\n",
    "plt.set_title(\"Distribution of Price Per Unit\")\n",
    "plt.save_fig(\"boxplot.png\")"
   ]
  },
  {
   "cell_type": "markdown",
   "id": "cf4bd5ef-0388-42fc-b446-d560d876cd16",
   "metadata": {},
   "source": [
    "**Comments**"
   ]
  },
  {
   "cell_type": "markdown",
   "id": "8300a8f5-e17f-4b3b-ad1b-87434a537d31",
   "metadata": {},
   "source": [
    "- There are definitely outliers present in the data\n",
    "- We can treat them in one of the following methods\n",
    "    * Remove the outliers and find the mean of the rest of the data\n",
    "    * Use median which is less affected by the outliers"
   ]
  },
  {
   "cell_type": "markdown",
   "id": "26479cc0-d6e2-4c3d-9e1c-ddbd9c4f5238",
   "metadata": {},
   "source": [
    "# Method - 1\n",
    "\n",
    "## Remove the outliers"
   ]
  },
  {
   "cell_type": "code",
   "execution_count": 86,
   "id": "95af0d2d-c33f-4a05-9e51-dbf4018b8070",
   "metadata": {},
   "outputs": [],
   "source": [
    "no_outlier_df = df[df[\"price_per_unit\"]<df[\"price_per_unit\"].max()]"
   ]
  },
  {
   "cell_type": "code",
   "execution_count": 87,
   "id": "5bcb6885-061e-4c32-91f0-067075247dd8",
   "metadata": {},
   "outputs": [
    {
     "data": {
      "text/html": [
       "<div>\n",
       "<style scoped>\n",
       "    .dataframe tbody tr th:only-of-type {\n",
       "        vertical-align: middle;\n",
       "    }\n",
       "\n",
       "    .dataframe tbody tr th {\n",
       "        vertical-align: top;\n",
       "    }\n",
       "\n",
       "    .dataframe thead th {\n",
       "        text-align: right;\n",
       "    }\n",
       "</style>\n",
       "<table border=\"1\" class=\"dataframe\">\n",
       "  <thead>\n",
       "    <tr style=\"text-align: right;\">\n",
       "      <th></th>\n",
       "      <th>order_id</th>\n",
       "      <th>shop_id</th>\n",
       "      <th>user_id</th>\n",
       "      <th>order_amount</th>\n",
       "      <th>total_items</th>\n",
       "      <th>price_per_unit</th>\n",
       "    </tr>\n",
       "  </thead>\n",
       "  <tbody>\n",
       "    <tr>\n",
       "      <th>count</th>\n",
       "      <td>4954.000000</td>\n",
       "      <td>4954.000000</td>\n",
       "      <td>4954.000000</td>\n",
       "      <td>4954.000000</td>\n",
       "      <td>4954.000000</td>\n",
       "      <td>4954.000000</td>\n",
       "    </tr>\n",
       "    <tr>\n",
       "      <th>mean</th>\n",
       "      <td>2498.990916</td>\n",
       "      <td>49.819540</td>\n",
       "      <td>848.919257</td>\n",
       "      <td>2717.367784</td>\n",
       "      <td>8.851029</td>\n",
       "      <td>152.475575</td>\n",
       "    </tr>\n",
       "    <tr>\n",
       "      <th>std</th>\n",
       "      <td>1444.498907</td>\n",
       "      <td>29.014845</td>\n",
       "      <td>87.846007</td>\n",
       "      <td>41155.996469</td>\n",
       "      <td>116.857286</td>\n",
       "      <td>31.260218</td>\n",
       "    </tr>\n",
       "    <tr>\n",
       "      <th>min</th>\n",
       "      <td>1.000000</td>\n",
       "      <td>1.000000</td>\n",
       "      <td>607.000000</td>\n",
       "      <td>90.000000</td>\n",
       "      <td>1.000000</td>\n",
       "      <td>90.000000</td>\n",
       "    </tr>\n",
       "    <tr>\n",
       "      <th>25%</th>\n",
       "      <td>1248.250000</td>\n",
       "      <td>24.000000</td>\n",
       "      <td>775.000000</td>\n",
       "      <td>163.000000</td>\n",
       "      <td>1.000000</td>\n",
       "      <td>132.000000</td>\n",
       "    </tr>\n",
       "    <tr>\n",
       "      <th>50%</th>\n",
       "      <td>2494.500000</td>\n",
       "      <td>50.000000</td>\n",
       "      <td>849.000000</td>\n",
       "      <td>284.000000</td>\n",
       "      <td>2.000000</td>\n",
       "      <td>153.000000</td>\n",
       "    </tr>\n",
       "    <tr>\n",
       "      <th>75%</th>\n",
       "      <td>3750.750000</td>\n",
       "      <td>74.000000</td>\n",
       "      <td>925.000000</td>\n",
       "      <td>390.000000</td>\n",
       "      <td>3.000000</td>\n",
       "      <td>168.000000</td>\n",
       "    </tr>\n",
       "    <tr>\n",
       "      <th>max</th>\n",
       "      <td>5000.000000</td>\n",
       "      <td>100.000000</td>\n",
       "      <td>999.000000</td>\n",
       "      <td>704000.000000</td>\n",
       "      <td>2000.000000</td>\n",
       "      <td>352.000000</td>\n",
       "    </tr>\n",
       "  </tbody>\n",
       "</table>\n",
       "</div>"
      ],
      "text/plain": [
       "          order_id      shop_id      user_id   order_amount  total_items  \\\n",
       "count  4954.000000  4954.000000  4954.000000    4954.000000  4954.000000   \n",
       "mean   2498.990916    49.819540   848.919257    2717.367784     8.851029   \n",
       "std    1444.498907    29.014845    87.846007   41155.996469   116.857286   \n",
       "min       1.000000     1.000000   607.000000      90.000000     1.000000   \n",
       "25%    1248.250000    24.000000   775.000000     163.000000     1.000000   \n",
       "50%    2494.500000    50.000000   849.000000     284.000000     2.000000   \n",
       "75%    3750.750000    74.000000   925.000000     390.000000     3.000000   \n",
       "max    5000.000000   100.000000   999.000000  704000.000000  2000.000000   \n",
       "\n",
       "       price_per_unit  \n",
       "count     4954.000000  \n",
       "mean       152.475575  \n",
       "std         31.260218  \n",
       "min         90.000000  \n",
       "25%        132.000000  \n",
       "50%        153.000000  \n",
       "75%        168.000000  \n",
       "max        352.000000  "
      ]
     },
     "execution_count": 87,
     "metadata": {},
     "output_type": "execute_result"
    }
   ],
   "source": [
    "no_outlier_df.describe()"
   ]
  },
  {
   "cell_type": "code",
   "execution_count": 93,
   "id": "7992181d-9d97-47b3-998a-3111e344e8fd",
   "metadata": {},
   "outputs": [
    {
     "data": {
      "text/plain": [
       "2717.3677836092047"
      ]
     },
     "execution_count": 93,
     "metadata": {},
     "output_type": "execute_result"
    }
   ],
   "source": [
    "no_outlier_df[\"order_amount\"].mean()"
   ]
  },
  {
   "cell_type": "code",
   "execution_count": 90,
   "id": "44d1cbdc-81ae-4b63-a364-23a341c9710b",
   "metadata": {},
   "outputs": [],
   "source": [
    "# This value is quite less than the median\n",
    "full_removed_df = no_outlier_df[no_outlier_df[\"order_amount\"]<no_outlier_df[\"order_amount\"].max()]"
   ]
  },
  {
   "cell_type": "code",
   "execution_count": 92,
   "id": "ca569df8-0f94-4e64-98ef-fa63d098c892",
   "metadata": {},
   "outputs": [
    {
     "data": {
      "text/html": [
       "<div>\n",
       "<style scoped>\n",
       "    .dataframe tbody tr th:only-of-type {\n",
       "        vertical-align: middle;\n",
       "    }\n",
       "\n",
       "    .dataframe tbody tr th {\n",
       "        vertical-align: top;\n",
       "    }\n",
       "\n",
       "    .dataframe thead th {\n",
       "        text-align: right;\n",
       "    }\n",
       "</style>\n",
       "<table border=\"1\" class=\"dataframe\">\n",
       "  <thead>\n",
       "    <tr style=\"text-align: right;\">\n",
       "      <th></th>\n",
       "      <th>order_id</th>\n",
       "      <th>shop_id</th>\n",
       "      <th>user_id</th>\n",
       "      <th>order_amount</th>\n",
       "      <th>total_items</th>\n",
       "      <th>price_per_unit</th>\n",
       "    </tr>\n",
       "  </thead>\n",
       "  <tbody>\n",
       "    <tr>\n",
       "      <th>count</th>\n",
       "      <td>4937.000000</td>\n",
       "      <td>4937.000000</td>\n",
       "      <td>4937.000000</td>\n",
       "      <td>4937.000000</td>\n",
       "      <td>4937.000000</td>\n",
       "      <td>4937.000000</td>\n",
       "    </tr>\n",
       "    <tr>\n",
       "      <th>mean</th>\n",
       "      <td>2499.551347</td>\n",
       "      <td>49.846465</td>\n",
       "      <td>849.752279</td>\n",
       "      <td>302.580514</td>\n",
       "      <td>1.994734</td>\n",
       "      <td>151.788536</td>\n",
       "    </tr>\n",
       "    <tr>\n",
       "      <th>std</th>\n",
       "      <td>1444.069407</td>\n",
       "      <td>29.061131</td>\n",
       "      <td>86.840313</td>\n",
       "      <td>160.804912</td>\n",
       "      <td>0.982821</td>\n",
       "      <td>29.034215</td>\n",
       "    </tr>\n",
       "    <tr>\n",
       "      <th>min</th>\n",
       "      <td>1.000000</td>\n",
       "      <td>1.000000</td>\n",
       "      <td>700.000000</td>\n",
       "      <td>90.000000</td>\n",
       "      <td>1.000000</td>\n",
       "      <td>90.000000</td>\n",
       "    </tr>\n",
       "    <tr>\n",
       "      <th>25%</th>\n",
       "      <td>1248.000000</td>\n",
       "      <td>24.000000</td>\n",
       "      <td>775.000000</td>\n",
       "      <td>163.000000</td>\n",
       "      <td>1.000000</td>\n",
       "      <td>132.000000</td>\n",
       "    </tr>\n",
       "    <tr>\n",
       "      <th>50%</th>\n",
       "      <td>2497.000000</td>\n",
       "      <td>50.000000</td>\n",
       "      <td>850.000000</td>\n",
       "      <td>284.000000</td>\n",
       "      <td>2.000000</td>\n",
       "      <td>153.000000</td>\n",
       "    </tr>\n",
       "    <tr>\n",
       "      <th>75%</th>\n",
       "      <td>3751.000000</td>\n",
       "      <td>74.000000</td>\n",
       "      <td>925.000000</td>\n",
       "      <td>387.000000</td>\n",
       "      <td>3.000000</td>\n",
       "      <td>166.000000</td>\n",
       "    </tr>\n",
       "    <tr>\n",
       "      <th>max</th>\n",
       "      <td>5000.000000</td>\n",
       "      <td>100.000000</td>\n",
       "      <td>999.000000</td>\n",
       "      <td>1760.000000</td>\n",
       "      <td>8.000000</td>\n",
       "      <td>352.000000</td>\n",
       "    </tr>\n",
       "  </tbody>\n",
       "</table>\n",
       "</div>"
      ],
      "text/plain": [
       "          order_id      shop_id      user_id  order_amount  total_items  \\\n",
       "count  4937.000000  4937.000000  4937.000000   4937.000000  4937.000000   \n",
       "mean   2499.551347    49.846465   849.752279    302.580514     1.994734   \n",
       "std    1444.069407    29.061131    86.840313    160.804912     0.982821   \n",
       "min       1.000000     1.000000   700.000000     90.000000     1.000000   \n",
       "25%    1248.000000    24.000000   775.000000    163.000000     1.000000   \n",
       "50%    2497.000000    50.000000   850.000000    284.000000     2.000000   \n",
       "75%    3751.000000    74.000000   925.000000    387.000000     3.000000   \n",
       "max    5000.000000   100.000000   999.000000   1760.000000     8.000000   \n",
       "\n",
       "       price_per_unit  \n",
       "count     4937.000000  \n",
       "mean       151.788536  \n",
       "std         29.034215  \n",
       "min         90.000000  \n",
       "25%        132.000000  \n",
       "50%        153.000000  \n",
       "75%        166.000000  \n",
       "max        352.000000  "
      ]
     },
     "execution_count": 92,
     "metadata": {},
     "output_type": "execute_result"
    }
   ],
   "source": [
    "full_removed_df.describe()"
   ]
  },
  {
   "cell_type": "markdown",
   "id": "997e9ca3-b31a-4834-b70d-eb0d51d87323",
   "metadata": {},
   "source": [
    "# Method - 2\n",
    "\n",
    "## Consider median of the whole dataset"
   ]
  },
  {
   "cell_type": "code",
   "execution_count": 102,
   "id": "19af7cc2-d5d3-4df4-b77b-de41902c550e",
   "metadata": {},
   "outputs": [
    {
     "name": "stderr",
     "output_type": "stream",
     "text": [
      "/var/folders/9y/pzvnqtl16zx6ry42n8nkvdq40000gn/T/ipykernel_25669/3029384519.py:1: FutureWarning: Dropping of nuisance columns in DataFrame reductions (with 'numeric_only=None') is deprecated; in a future version this will raise TypeError.  Select only valid columns before calling the reduction.\n"
     ]
    }
   ],
   "source": [
    "pd.DataFrame(df.median()).to_csv(\"median.csv\")"
   ]
  },
  {
   "cell_type": "code",
   "execution_count": 107,
   "id": "719ca431-8306-4355-9ffe-7e3e9aab51a6",
   "metadata": {},
   "outputs": [
    {
     "name": "stdout",
     "output_type": "stream",
     "text": [
      "The A.O.V is 284.0\n"
     ]
    }
   ],
   "source": [
    "print(f'The A.O.V is {df[\"order_amount\"].median()}')"
   ]
  },
  {
   "cell_type": "code",
   "execution_count": null,
   "id": "105ed946-7f24-4f64-9548-823af399d936",
   "metadata": {},
   "outputs": [],
   "source": []
  }
 ],
 "metadata": {
  "kernelspec": {
   "display_name": "Python [conda env:531]",
   "language": "python",
   "name": "conda-env-531-py"
  },
  "language_info": {
   "codemirror_mode": {
    "name": "ipython",
    "version": 3
   },
   "file_extension": ".py",
   "mimetype": "text/x-python",
   "name": "python",
   "nbconvert_exporter": "python",
   "pygments_lexer": "ipython3",
   "version": "3.10.4"
  }
 },
 "nbformat": 4,
 "nbformat_minor": 5
}
