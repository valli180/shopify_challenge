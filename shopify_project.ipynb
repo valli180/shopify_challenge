{
 "cells": [
  {
   "cell_type": "code",
   "execution_count": 5,
   "id": "85d29786-a74b-416d-a3ac-c2b3e80d26e1",
   "metadata": {},
   "outputs": [
    {
     "name": "stdout",
     "output_type": "stream",
     "text": [
      "The sql extension is already loaded. To reload it, use:\n",
      "  %reload_ext sql\n"
     ]
    }
   ],
   "source": [
    "# import numpy as np\n",
    "# import pandas as pd\n",
    "# import matplotlib.pyplot as plt\n",
    "# import psycopg2\n",
    "# import altair as alt\n",
    "# from altair_data_server import data_server\n",
    "\n",
    "# alt.data_transformers.enable('data_server')\n",
    "# alt.renderers.enable('mimetype')\n",
    "\n",
    "# %matplotlib inline\n",
    "# %load_ext sql\n",
    "# %config SqlMagic.displaylimit = 20\n",
    "# %config SqlMagic.autolimit = 30\n",
    "# from sqlalchemy import create_engine\n",
    "# import io"
   ]
  },
  {
   "cell_type": "code",
   "execution_count": 6,
   "id": "ac700bed-1613-4e41-bf51-5d8f711b2d25",
   "metadata": {},
   "outputs": [
    {
     "ename": "FileNotFoundError",
     "evalue": "[Errno 2] No such file or directory: 'data/credentials.json'",
     "output_type": "error",
     "traceback": [
      "\u001b[0;31m---------------------------------------------------------------------------\u001b[0m",
      "\u001b[0;31mFileNotFoundError\u001b[0m                         Traceback (most recent call last)",
      "Input \u001b[0;32mIn [6]\u001b[0m, in \u001b[0;36m<module>\u001b[0;34m\u001b[0m\n\u001b[1;32m      1\u001b[0m \u001b[38;5;28;01mimport\u001b[39;00m \u001b[38;5;21;01mjson\u001b[39;00m\n\u001b[1;32m      2\u001b[0m \u001b[38;5;28;01mimport\u001b[39;00m \u001b[38;5;21;01murllib\u001b[39;00m\u001b[38;5;21;01m.\u001b[39;00m\u001b[38;5;21;01mparse\u001b[39;00m\n\u001b[0;32m----> 4\u001b[0m \u001b[38;5;28;01mwith\u001b[39;00m \u001b[38;5;28;43mopen\u001b[39;49m\u001b[43m(\u001b[49m\u001b[38;5;124;43m'\u001b[39;49m\u001b[38;5;124;43mdata/credentials.json\u001b[39;49m\u001b[38;5;124;43m'\u001b[39;49m\u001b[43m)\u001b[49m \u001b[38;5;28;01mas\u001b[39;00m f:\n\u001b[1;32m      5\u001b[0m     login \u001b[38;5;241m=\u001b[39m json\u001b[38;5;241m.\u001b[39mload(f)\n\u001b[1;32m      7\u001b[0m username \u001b[38;5;241m=\u001b[39m login[\u001b[38;5;124m'\u001b[39m\u001b[38;5;124muser\u001b[39m\u001b[38;5;124m'\u001b[39m]\n",
      "\u001b[0;31mFileNotFoundError\u001b[0m: [Errno 2] No such file or directory: 'data/credentials.json'"
     ]
    }
   ],
   "source": [
    "# import json\n",
    "# import urllib.parse\n",
    "\n",
    "# with open('data/credentials.json') as f:\n",
    "#     login = json.load(f)\n",
    "    \n",
    "# username = login['user']\n",
    "# password = urllib.parse.quote(login['password'])\n",
    "# host = login['host']\n",
    "# port = login['port']\n"
   ]
  },
  {
   "cell_type": "code",
   "execution_count": 31,
   "id": "ba3820c0-8578-4e8d-9c20-e8ee3f92e830",
   "metadata": {},
   "outputs": [],
   "source": [
    "# conn = psycopg2.connect(database='postgres', **login)\n",
    "\n",
    "# autocommit = psycopg2.extensions.ISOLATION_LEVEL_AUTOCOMMIT\n",
    "# conn.set_isolation_level(autocommit)\n",
    "# conn.cursor().execute(\"DROP DATABASE IF EXISTS shopify WITH (FORCE);\")\n",
    "# conn.cursor().execute(\"CREATE DATABASE shopify;\")\n",
    "# conn.cursor().close()"
   ]
  },
  {
   "cell_type": "code",
   "execution_count": 32,
   "id": "ea33bbda-795a-4981-a610-263d14867fcc",
   "metadata": {},
   "outputs": [
    {
     "name": "stdout",
     "output_type": "stream",
     "text": [
      "['postgres', 'template1', 'template0', 'w', 'imdb_dsci513', 'unter', 'shopify']\n"
     ]
    }
   ],
   "source": [
    "# conn = psycopg2.connect(database='postgres', **login)\n",
    "\n",
    "# with conn, conn.cursor() as cur:\n",
    "#     cur.execute(\"SELECT datname FROM pg_database;\")\n",
    "#     print([i[0] for i in cur.fetchall()])"
   ]
  },
  {
   "cell_type": "code",
   "execution_count": 7,
   "id": "49b8493c-8039-4e80-9bf8-4f3ebeade205",
   "metadata": {},
   "outputs": [],
   "source": [
    "sheet_url = \"https://docs.google.com/spreadsheets/d/16i38oonuX1y1g7C_UAmiK9GkY7cS-64DfiDMNiR41LM/edit#gid=0\"\n",
    "url_1 = sheet_url.replace(\"/edit#gid=\", \"/export?format=csv&gid=\")\n",
    "\n",
    "df = pd.read_csv(url_1, index_col=0, parse_dates=[\"created_at\"])\n",
    "df[\"date\"] = pd.to_datetime(df[\"created_at\"]).dt.date\n",
    "df[\"time\"] = pd.to_datetime(df[\"created_at\"]).dt.time"
   ]
  },
  {
   "cell_type": "code",
   "execution_count": 8,
   "id": "9ceed0b4-9198-4a25-a518-73e34c2eb648",
   "metadata": {},
   "outputs": [],
   "source": [
    "# conn = psycopg2.connect(database='shopify', **login)\n",
    "# conn.autocommit = True\n",
    "\n",
    "# with conn, conn.cursor() as cur:\n",
    "#     cur.execute(\"\"\"\n",
    "#     CREATE TABLE shopify_data(\n",
    "#         order_id SERIAL,\n",
    "#         shop_id  INTEGER NOT NULL,\n",
    "#         user_id  INTEGER NOT NULL,\n",
    "#         order_amount INTEGER NOT NULL,\n",
    "#         total_items INTEGER NOT NULL,\n",
    "#         payment_method VARCAHAR(16),\n",
    "#         date DATE,\n",
    "#         time TIME\n",
    "#     );\"\"\")"
   ]
  },
  {
   "cell_type": "code",
   "execution_count": 9,
   "id": "16ef0c1b-04eb-495d-904a-b77427c7915f",
   "metadata": {},
   "outputs": [
    {
     "data": {
      "text/html": [
       "<div>\n",
       "<style scoped>\n",
       "    .dataframe tbody tr th:only-of-type {\n",
       "        vertical-align: middle;\n",
       "    }\n",
       "\n",
       "    .dataframe tbody tr th {\n",
       "        vertical-align: top;\n",
       "    }\n",
       "\n",
       "    .dataframe thead th {\n",
       "        text-align: right;\n",
       "    }\n",
       "</style>\n",
       "<table border=\"1\" class=\"dataframe\">\n",
       "  <thead>\n",
       "    <tr style=\"text-align: right;\">\n",
       "      <th></th>\n",
       "      <th>order_id</th>\n",
       "      <th>shop_id</th>\n",
       "      <th>user_id</th>\n",
       "      <th>order_amount</th>\n",
       "      <th>total_items</th>\n",
       "      <th>payment_method</th>\n",
       "      <th>created_at</th>\n",
       "      <th>date</th>\n",
       "      <th>time</th>\n",
       "    </tr>\n",
       "  </thead>\n",
       "  <tbody>\n",
       "    <tr>\n",
       "      <th>0</th>\n",
       "      <td>1</td>\n",
       "      <td>53</td>\n",
       "      <td>746</td>\n",
       "      <td>224</td>\n",
       "      <td>2</td>\n",
       "      <td>cash</td>\n",
       "      <td>2017-03-13 12:36:56</td>\n",
       "      <td>2017-03-13</td>\n",
       "      <td>12:36:56</td>\n",
       "    </tr>\n",
       "    <tr>\n",
       "      <th>1</th>\n",
       "      <td>2</td>\n",
       "      <td>92</td>\n",
       "      <td>925</td>\n",
       "      <td>90</td>\n",
       "      <td>1</td>\n",
       "      <td>cash</td>\n",
       "      <td>2017-03-03 17:38:52</td>\n",
       "      <td>2017-03-03</td>\n",
       "      <td>17:38:52</td>\n",
       "    </tr>\n",
       "    <tr>\n",
       "      <th>2</th>\n",
       "      <td>3</td>\n",
       "      <td>44</td>\n",
       "      <td>861</td>\n",
       "      <td>144</td>\n",
       "      <td>1</td>\n",
       "      <td>cash</td>\n",
       "      <td>2017-03-14 04:23:56</td>\n",
       "      <td>2017-03-14</td>\n",
       "      <td>04:23:56</td>\n",
       "    </tr>\n",
       "    <tr>\n",
       "      <th>3</th>\n",
       "      <td>4</td>\n",
       "      <td>18</td>\n",
       "      <td>935</td>\n",
       "      <td>156</td>\n",
       "      <td>1</td>\n",
       "      <td>credit_card</td>\n",
       "      <td>2017-03-26 12:43:37</td>\n",
       "      <td>2017-03-26</td>\n",
       "      <td>12:43:37</td>\n",
       "    </tr>\n",
       "    <tr>\n",
       "      <th>4</th>\n",
       "      <td>5</td>\n",
       "      <td>18</td>\n",
       "      <td>883</td>\n",
       "      <td>156</td>\n",
       "      <td>1</td>\n",
       "      <td>credit_card</td>\n",
       "      <td>2017-03-01 04:35:11</td>\n",
       "      <td>2017-03-01</td>\n",
       "      <td>04:35:11</td>\n",
       "    </tr>\n",
       "  </tbody>\n",
       "</table>\n",
       "</div>"
      ],
      "text/plain": [
       "   order_id  shop_id  user_id  order_amount  total_items payment_method  \\\n",
       "0         1       53      746           224            2           cash   \n",
       "1         2       92      925            90            1           cash   \n",
       "2         3       44      861           144            1           cash   \n",
       "3         4       18      935           156            1    credit_card   \n",
       "4         5       18      883           156            1    credit_card   \n",
       "\n",
       "           created_at        date      time  \n",
       "0 2017-03-13 12:36:56  2017-03-13  12:36:56  \n",
       "1 2017-03-03 17:38:52  2017-03-03  17:38:52  \n",
       "2 2017-03-14 04:23:56  2017-03-14  04:23:56  \n",
       "3 2017-03-26 12:43:37  2017-03-26  12:43:37  \n",
       "4 2017-03-01 04:35:11  2017-03-01  04:35:11  "
      ]
     },
     "execution_count": 9,
     "metadata": {},
     "output_type": "execute_result"
    }
   ],
   "source": [
    "df.reset_index().head()"
   ]
  },
  {
   "cell_type": "code",
   "execution_count": 10,
   "id": "810cd6ff-c65f-4440-92af-5887d610bd54",
   "metadata": {},
   "outputs": [
    {
     "data": {
      "text/plain": [
       "shop_id\n",
       "1      13588\n",
       "2       9588\n",
       "3      14652\n",
       "4      13184\n",
       "5      13064\n",
       "       ...  \n",
       "96     16830\n",
       "97     15552\n",
       "98     14231\n",
       "99     18330\n",
       "100     8547\n",
       "Name: order_amount, Length: 100, dtype: int64"
      ]
     },
     "execution_count": 10,
     "metadata": {},
     "output_type": "execute_result"
    }
   ],
   "source": [
    "df.groupby(\"shop_id\")[\"order_amount\"].sum()"
   ]
  },
  {
   "cell_type": "code",
   "execution_count": 45,
   "id": "d64697ce-47e2-4092-a0e4-1f2349621af9",
   "metadata": {},
   "outputs": [
    {
     "data": {
      "text/plain": [
       "datetime.date(2017, 3, 1)"
      ]
     },
     "execution_count": 45,
     "metadata": {},
     "output_type": "execute_result"
    }
   ],
   "source": [
    "df[\"date\"].min()"
   ]
  },
  {
   "cell_type": "code",
   "execution_count": 46,
   "id": "4bcceeef-7118-4309-b997-da4b19a6ad9b",
   "metadata": {},
   "outputs": [
    {
     "data": {
      "text/plain": [
       "datetime.date(2017, 3, 30)"
      ]
     },
     "execution_count": 46,
     "metadata": {},
     "output_type": "execute_result"
    }
   ],
   "source": [
    "df[\"date\"].max()"
   ]
  },
  {
   "cell_type": "code",
   "execution_count": 11,
   "id": "cbac5f1e-82ee-4e04-bf76-10a3109ef5bf",
   "metadata": {},
   "outputs": [],
   "source": [
    "df[\"price_per_unit\"] = df[\"order_amount\"]/df[\"total_items\"]"
   ]
  },
  {
   "cell_type": "code",
   "execution_count": 13,
   "id": "bb865f1b-3eb3-4fae-973e-0bcc3f99e66e",
   "metadata": {},
   "outputs": [
    {
     "data": {
      "text/plain": [
       "387.7428"
      ]
     },
     "execution_count": 13,
     "metadata": {},
     "output_type": "execute_result"
    }
   ],
   "source": [
    "df[\"price_per_unit\"].mean()"
   ]
  },
  {
   "cell_type": "code",
   "execution_count": 14,
   "id": "89afe6f0-0744-47b9-a9d0-9e7917b79443",
   "metadata": {},
   "outputs": [
    {
     "data": {
      "text/html": [
       "<div>\n",
       "<style scoped>\n",
       "    .dataframe tbody tr th:only-of-type {\n",
       "        vertical-align: middle;\n",
       "    }\n",
       "\n",
       "    .dataframe tbody tr th {\n",
       "        vertical-align: top;\n",
       "    }\n",
       "\n",
       "    .dataframe thead th {\n",
       "        text-align: right;\n",
       "    }\n",
       "</style>\n",
       "<table border=\"1\" class=\"dataframe\">\n",
       "  <thead>\n",
       "    <tr style=\"text-align: right;\">\n",
       "      <th></th>\n",
       "      <th>shop_id</th>\n",
       "      <th>user_id</th>\n",
       "      <th>order_amount</th>\n",
       "      <th>total_items</th>\n",
       "      <th>payment_method</th>\n",
       "      <th>created_at</th>\n",
       "      <th>date</th>\n",
       "      <th>time</th>\n",
       "      <th>price_per_unit</th>\n",
       "    </tr>\n",
       "    <tr>\n",
       "      <th>order_id</th>\n",
       "      <th></th>\n",
       "      <th></th>\n",
       "      <th></th>\n",
       "      <th></th>\n",
       "      <th></th>\n",
       "      <th></th>\n",
       "      <th></th>\n",
       "      <th></th>\n",
       "      <th></th>\n",
       "    </tr>\n",
       "  </thead>\n",
       "  <tbody>\n",
       "    <tr>\n",
       "      <th>1</th>\n",
       "      <td>53</td>\n",
       "      <td>746</td>\n",
       "      <td>224</td>\n",
       "      <td>2</td>\n",
       "      <td>cash</td>\n",
       "      <td>2017-03-13 12:36:56</td>\n",
       "      <td>2017-03-13</td>\n",
       "      <td>12:36:56</td>\n",
       "      <td>112.0</td>\n",
       "    </tr>\n",
       "    <tr>\n",
       "      <th>2</th>\n",
       "      <td>92</td>\n",
       "      <td>925</td>\n",
       "      <td>90</td>\n",
       "      <td>1</td>\n",
       "      <td>cash</td>\n",
       "      <td>2017-03-03 17:38:52</td>\n",
       "      <td>2017-03-03</td>\n",
       "      <td>17:38:52</td>\n",
       "      <td>90.0</td>\n",
       "    </tr>\n",
       "    <tr>\n",
       "      <th>3</th>\n",
       "      <td>44</td>\n",
       "      <td>861</td>\n",
       "      <td>144</td>\n",
       "      <td>1</td>\n",
       "      <td>cash</td>\n",
       "      <td>2017-03-14 04:23:56</td>\n",
       "      <td>2017-03-14</td>\n",
       "      <td>04:23:56</td>\n",
       "      <td>144.0</td>\n",
       "    </tr>\n",
       "    <tr>\n",
       "      <th>4</th>\n",
       "      <td>18</td>\n",
       "      <td>935</td>\n",
       "      <td>156</td>\n",
       "      <td>1</td>\n",
       "      <td>credit_card</td>\n",
       "      <td>2017-03-26 12:43:37</td>\n",
       "      <td>2017-03-26</td>\n",
       "      <td>12:43:37</td>\n",
       "      <td>156.0</td>\n",
       "    </tr>\n",
       "    <tr>\n",
       "      <th>5</th>\n",
       "      <td>18</td>\n",
       "      <td>883</td>\n",
       "      <td>156</td>\n",
       "      <td>1</td>\n",
       "      <td>credit_card</td>\n",
       "      <td>2017-03-01 04:35:11</td>\n",
       "      <td>2017-03-01</td>\n",
       "      <td>04:35:11</td>\n",
       "      <td>156.0</td>\n",
       "    </tr>\n",
       "  </tbody>\n",
       "</table>\n",
       "</div>"
      ],
      "text/plain": [
       "          shop_id  user_id  order_amount  total_items payment_method  \\\n",
       "order_id                                                               \n",
       "1              53      746           224            2           cash   \n",
       "2              92      925            90            1           cash   \n",
       "3              44      861           144            1           cash   \n",
       "4              18      935           156            1    credit_card   \n",
       "5              18      883           156            1    credit_card   \n",
       "\n",
       "                  created_at        date      time  price_per_unit  \n",
       "order_id                                                            \n",
       "1        2017-03-13 12:36:56  2017-03-13  12:36:56           112.0  \n",
       "2        2017-03-03 17:38:52  2017-03-03  17:38:52            90.0  \n",
       "3        2017-03-14 04:23:56  2017-03-14  04:23:56           144.0  \n",
       "4        2017-03-26 12:43:37  2017-03-26  12:43:37           156.0  \n",
       "5        2017-03-01 04:35:11  2017-03-01  04:35:11           156.0  "
      ]
     },
     "execution_count": 14,
     "metadata": {},
     "output_type": "execute_result"
    }
   ],
   "source": [
    "df.head()"
   ]
  },
  {
   "cell_type": "code",
   "execution_count": 15,
   "id": "71c9b345-bc07-4618-9505-624eae695946",
   "metadata": {},
   "outputs": [
    {
     "data": {
      "text/plain": [
       "357.92152221412965"
      ]
     },
     "execution_count": 15,
     "metadata": {},
     "output_type": "execute_result"
    }
   ],
   "source": [
    "df[\"order_amount\"].sum()/df[\"total_items\"].sum()"
   ]
  },
  {
   "cell_type": "code",
   "execution_count": null,
   "id": "a0740727-a0b2-41f2-bc31-e2068bc00791",
   "metadata": {},
   "outputs": [],
   "source": []
  }
 ],
 "metadata": {
  "kernelspec": {
   "display_name": "Python [conda env:dsci513env]",
   "language": "python",
   "name": "conda-env-dsci513env-py"
  },
  "language_info": {
   "codemirror_mode": {
    "name": "ipython",
    "version": 3
   },
   "file_extension": ".py",
   "mimetype": "text/x-python",
   "name": "python",
   "nbconvert_exporter": "python",
   "pygments_lexer": "ipython3",
   "version": "3.10.2"
  }
 },
 "nbformat": 4,
 "nbformat_minor": 5
}
